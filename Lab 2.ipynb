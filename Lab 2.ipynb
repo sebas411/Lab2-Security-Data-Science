{
 "cells": [
  {
   "cell_type": "markdown",
   "id": "3b3241e9",
   "metadata": {},
   "source": [
    "Fernando José Garavito Ovando 18071\n",
    "\n",
    "Sebastián Maldonado Arnau 18003"
   ]
  },
  {
   "cell_type": "markdown",
   "id": "bd087acd",
   "metadata": {},
   "source": [
    "# Laboratorio 2 Detección de SPAM"
   ]
  },
  {
   "cell_type": "code",
   "execution_count": 54,
   "id": "4d37e000",
   "metadata": {},
   "outputs": [],
   "source": [
    "import pandas as pd\n",
    "import nltk, re, contractions\n",
    "import unicodedata"
   ]
  },
  {
   "cell_type": "markdown",
   "id": "708ff687",
   "metadata": {},
   "source": [
    "## Parte 1 - Ingeniería de características"
   ]
  },
  {
   "cell_type": "markdown",
   "id": "60c51889",
   "metadata": {},
   "source": [
    "### Cargar datasets y unirlos"
   ]
  },
  {
   "cell_type": "code",
   "execution_count": 11,
   "id": "f3187d14",
   "metadata": {},
   "outputs": [
    {
     "data": {
      "text/html": [
       "<div>\n",
       "<style scoped>\n",
       "    .dataframe tbody tr th:only-of-type {\n",
       "        vertical-align: middle;\n",
       "    }\n",
       "\n",
       "    .dataframe tbody tr th {\n",
       "        vertical-align: top;\n",
       "    }\n",
       "\n",
       "    .dataframe thead th {\n",
       "        text-align: right;\n",
       "    }\n",
       "</style>\n",
       "<table border=\"1\" class=\"dataframe\">\n",
       "  <thead>\n",
       "    <tr style=\"text-align: right;\">\n",
       "      <th></th>\n",
       "      <th>Unnamed: 0</th>\n",
       "      <th>Body</th>\n",
       "      <th>Label</th>\n",
       "    </tr>\n",
       "  </thead>\n",
       "  <tbody>\n",
       "    <tr>\n",
       "      <th>0</th>\n",
       "      <td>0</td>\n",
       "      <td>\\nSave up to 70% on Life Insurance.\\nWhy Spend...</td>\n",
       "      <td>1</td>\n",
       "    </tr>\n",
       "    <tr>\n",
       "      <th>1</th>\n",
       "      <td>1</td>\n",
       "      <td>1) Fight The Risk of Cancer!\\nhttp://www.adcli...</td>\n",
       "      <td>1</td>\n",
       "    </tr>\n",
       "    <tr>\n",
       "      <th>2</th>\n",
       "      <td>2</td>\n",
       "      <td>1) Fight The Risk of Cancer!\\nhttp://www.adcli...</td>\n",
       "      <td>1</td>\n",
       "    </tr>\n",
       "    <tr>\n",
       "      <th>3</th>\n",
       "      <td>3</td>\n",
       "      <td>##############################################...</td>\n",
       "      <td>1</td>\n",
       "    </tr>\n",
       "    <tr>\n",
       "      <th>4</th>\n",
       "      <td>4</td>\n",
       "      <td>I thought you might like these:\\n1) Slim Down ...</td>\n",
       "      <td>1</td>\n",
       "    </tr>\n",
       "  </tbody>\n",
       "</table>\n",
       "</div>"
      ],
      "text/plain": [
       "   Unnamed: 0                                               Body  Label\n",
       "0           0  \\nSave up to 70% on Life Insurance.\\nWhy Spend...      1\n",
       "1           1  1) Fight The Risk of Cancer!\\nhttp://www.adcli...      1\n",
       "2           2  1) Fight The Risk of Cancer!\\nhttp://www.adcli...      1\n",
       "3           3  ##############################################...      1\n",
       "4           4  I thought you might like these:\\n1) Slim Down ...      1"
      ]
     },
     "execution_count": 11,
     "metadata": {},
     "output_type": "execute_result"
    }
   ],
   "source": [
    "df1 = pd.read_csv(\"completeSpamAssassin.csv\")\n",
    "df1.head()"
   ]
  },
  {
   "cell_type": "code",
   "execution_count": 12,
   "id": "e0d4ea71",
   "metadata": {},
   "outputs": [
    {
     "name": "stdout",
     "output_type": "stream",
     "text": [
      "(6046, 2)\n"
     ]
    },
    {
     "data": {
      "text/html": [
       "<div>\n",
       "<style scoped>\n",
       "    .dataframe tbody tr th:only-of-type {\n",
       "        vertical-align: middle;\n",
       "    }\n",
       "\n",
       "    .dataframe tbody tr th {\n",
       "        vertical-align: top;\n",
       "    }\n",
       "\n",
       "    .dataframe thead th {\n",
       "        text-align: right;\n",
       "    }\n",
       "</style>\n",
       "<table border=\"1\" class=\"dataframe\">\n",
       "  <thead>\n",
       "    <tr style=\"text-align: right;\">\n",
       "      <th></th>\n",
       "      <th>Body</th>\n",
       "      <th>Label</th>\n",
       "    </tr>\n",
       "  </thead>\n",
       "  <tbody>\n",
       "    <tr>\n",
       "      <th>0</th>\n",
       "      <td>\\nSave up to 70% on Life Insurance.\\nWhy Spend...</td>\n",
       "      <td>1</td>\n",
       "    </tr>\n",
       "    <tr>\n",
       "      <th>1</th>\n",
       "      <td>1) Fight The Risk of Cancer!\\nhttp://www.adcli...</td>\n",
       "      <td>1</td>\n",
       "    </tr>\n",
       "    <tr>\n",
       "      <th>2</th>\n",
       "      <td>1) Fight The Risk of Cancer!\\nhttp://www.adcli...</td>\n",
       "      <td>1</td>\n",
       "    </tr>\n",
       "    <tr>\n",
       "      <th>3</th>\n",
       "      <td>##############################################...</td>\n",
       "      <td>1</td>\n",
       "    </tr>\n",
       "    <tr>\n",
       "      <th>4</th>\n",
       "      <td>I thought you might like these:\\n1) Slim Down ...</td>\n",
       "      <td>1</td>\n",
       "    </tr>\n",
       "  </tbody>\n",
       "</table>\n",
       "</div>"
      ],
      "text/plain": [
       "                                                Body  Label\n",
       "0  \\nSave up to 70% on Life Insurance.\\nWhy Spend...      1\n",
       "1  1) Fight The Risk of Cancer!\\nhttp://www.adcli...      1\n",
       "2  1) Fight The Risk of Cancer!\\nhttp://www.adcli...      1\n",
       "3  ##############################################...      1\n",
       "4  I thought you might like these:\\n1) Slim Down ...      1"
      ]
     },
     "execution_count": 12,
     "metadata": {},
     "output_type": "execute_result"
    }
   ],
   "source": [
    "df1 = df1.drop('Unnamed: 0', axis=1)\n",
    "print(df1.shape)\n",
    "df1.head()"
   ]
  },
  {
   "cell_type": "code",
   "execution_count": 13,
   "id": "422b493b",
   "metadata": {},
   "outputs": [
    {
     "data": {
      "text/html": [
       "<div>\n",
       "<style scoped>\n",
       "    .dataframe tbody tr th:only-of-type {\n",
       "        vertical-align: middle;\n",
       "    }\n",
       "\n",
       "    .dataframe tbody tr th {\n",
       "        vertical-align: top;\n",
       "    }\n",
       "\n",
       "    .dataframe thead th {\n",
       "        text-align: right;\n",
       "    }\n",
       "</style>\n",
       "<table border=\"1\" class=\"dataframe\">\n",
       "  <thead>\n",
       "    <tr style=\"text-align: right;\">\n",
       "      <th></th>\n",
       "      <th>Unnamed: 0.1</th>\n",
       "      <th>Unnamed: 0</th>\n",
       "      <th>Body</th>\n",
       "      <th>Label</th>\n",
       "    </tr>\n",
       "  </thead>\n",
       "  <tbody>\n",
       "    <tr>\n",
       "      <th>0</th>\n",
       "      <td>2469</td>\n",
       "      <td>2469</td>\n",
       "      <td>Subject: stock promo mover : cwtd\\n * * * urge...</td>\n",
       "      <td>1</td>\n",
       "    </tr>\n",
       "    <tr>\n",
       "      <th>1</th>\n",
       "      <td>5063</td>\n",
       "      <td>5063</td>\n",
       "      <td>Subject: are you listed in major search engine...</td>\n",
       "      <td>1</td>\n",
       "    </tr>\n",
       "    <tr>\n",
       "      <th>2</th>\n",
       "      <td>12564</td>\n",
       "      <td>12564</td>\n",
       "      <td>Subject: important information thu , 30 jun 20...</td>\n",
       "      <td>1</td>\n",
       "    </tr>\n",
       "    <tr>\n",
       "      <th>3</th>\n",
       "      <td>2796</td>\n",
       "      <td>2796</td>\n",
       "      <td>Subject: = ? utf - 8 ? q ? bask your life with...</td>\n",
       "      <td>1</td>\n",
       "    </tr>\n",
       "    <tr>\n",
       "      <th>4</th>\n",
       "      <td>1468</td>\n",
       "      <td>1468</td>\n",
       "      <td>Subject: \" bidstogo \" is places to go , things...</td>\n",
       "      <td>1</td>\n",
       "    </tr>\n",
       "  </tbody>\n",
       "</table>\n",
       "</div>"
      ],
      "text/plain": [
       "   Unnamed: 0.1  Unnamed: 0  \\\n",
       "0          2469        2469   \n",
       "1          5063        5063   \n",
       "2         12564       12564   \n",
       "3          2796        2796   \n",
       "4          1468        1468   \n",
       "\n",
       "                                                Body  Label  \n",
       "0  Subject: stock promo mover : cwtd\\n * * * urge...      1  \n",
       "1  Subject: are you listed in major search engine...      1  \n",
       "2  Subject: important information thu , 30 jun 20...      1  \n",
       "3  Subject: = ? utf - 8 ? q ? bask your life with...      1  \n",
       "4  Subject: \" bidstogo \" is places to go , things...      1  "
      ]
     },
     "execution_count": 13,
     "metadata": {},
     "output_type": "execute_result"
    }
   ],
   "source": [
    "df2 = pd.read_csv(\"enronSpamSubset.csv\")\n",
    "df2.head()"
   ]
  },
  {
   "cell_type": "code",
   "execution_count": 14,
   "id": "d23029b5",
   "metadata": {},
   "outputs": [
    {
     "name": "stdout",
     "output_type": "stream",
     "text": [
      "(10000, 2)\n"
     ]
    },
    {
     "data": {
      "text/html": [
       "<div>\n",
       "<style scoped>\n",
       "    .dataframe tbody tr th:only-of-type {\n",
       "        vertical-align: middle;\n",
       "    }\n",
       "\n",
       "    .dataframe tbody tr th {\n",
       "        vertical-align: top;\n",
       "    }\n",
       "\n",
       "    .dataframe thead th {\n",
       "        text-align: right;\n",
       "    }\n",
       "</style>\n",
       "<table border=\"1\" class=\"dataframe\">\n",
       "  <thead>\n",
       "    <tr style=\"text-align: right;\">\n",
       "      <th></th>\n",
       "      <th>Body</th>\n",
       "      <th>Label</th>\n",
       "    </tr>\n",
       "  </thead>\n",
       "  <tbody>\n",
       "    <tr>\n",
       "      <th>0</th>\n",
       "      <td>Subject: stock promo mover : cwtd\\n * * * urge...</td>\n",
       "      <td>1</td>\n",
       "    </tr>\n",
       "    <tr>\n",
       "      <th>1</th>\n",
       "      <td>Subject: are you listed in major search engine...</td>\n",
       "      <td>1</td>\n",
       "    </tr>\n",
       "    <tr>\n",
       "      <th>2</th>\n",
       "      <td>Subject: important information thu , 30 jun 20...</td>\n",
       "      <td>1</td>\n",
       "    </tr>\n",
       "    <tr>\n",
       "      <th>3</th>\n",
       "      <td>Subject: = ? utf - 8 ? q ? bask your life with...</td>\n",
       "      <td>1</td>\n",
       "    </tr>\n",
       "    <tr>\n",
       "      <th>4</th>\n",
       "      <td>Subject: \" bidstogo \" is places to go , things...</td>\n",
       "      <td>1</td>\n",
       "    </tr>\n",
       "  </tbody>\n",
       "</table>\n",
       "</div>"
      ],
      "text/plain": [
       "                                                Body  Label\n",
       "0  Subject: stock promo mover : cwtd\\n * * * urge...      1\n",
       "1  Subject: are you listed in major search engine...      1\n",
       "2  Subject: important information thu , 30 jun 20...      1\n",
       "3  Subject: = ? utf - 8 ? q ? bask your life with...      1\n",
       "4  Subject: \" bidstogo \" is places to go , things...      1"
      ]
     },
     "execution_count": 14,
     "metadata": {},
     "output_type": "execute_result"
    }
   ],
   "source": [
    "df2 = df2.drop('Unnamed: 0.1', axis=1)\n",
    "df2 = df2.drop('Unnamed: 0', axis=1)\n",
    "print(df2.shape)\n",
    "df2.head()"
   ]
  },
  {
   "cell_type": "code",
   "execution_count": 10,
   "id": "0fedf96e",
   "metadata": {},
   "outputs": [
    {
     "name": "stdout",
     "output_type": "stream",
     "text": [
      "(16046, 2)\n"
     ]
    },
    {
     "data": {
      "text/html": [
       "<div>\n",
       "<style scoped>\n",
       "    .dataframe tbody tr th:only-of-type {\n",
       "        vertical-align: middle;\n",
       "    }\n",
       "\n",
       "    .dataframe tbody tr th {\n",
       "        vertical-align: top;\n",
       "    }\n",
       "\n",
       "    .dataframe thead th {\n",
       "        text-align: right;\n",
       "    }\n",
       "</style>\n",
       "<table border=\"1\" class=\"dataframe\">\n",
       "  <thead>\n",
       "    <tr style=\"text-align: right;\">\n",
       "      <th></th>\n",
       "      <th>Body</th>\n",
       "      <th>Label</th>\n",
       "    </tr>\n",
       "  </thead>\n",
       "  <tbody>\n",
       "    <tr>\n",
       "      <th>0</th>\n",
       "      <td>\\nSave up to 70% on Life Insurance.\\nWhy Spend...</td>\n",
       "      <td>1</td>\n",
       "    </tr>\n",
       "    <tr>\n",
       "      <th>1</th>\n",
       "      <td>1) Fight The Risk of Cancer!\\nhttp://www.adcli...</td>\n",
       "      <td>1</td>\n",
       "    </tr>\n",
       "    <tr>\n",
       "      <th>2</th>\n",
       "      <td>1) Fight The Risk of Cancer!\\nhttp://www.adcli...</td>\n",
       "      <td>1</td>\n",
       "    </tr>\n",
       "    <tr>\n",
       "      <th>3</th>\n",
       "      <td>##############################################...</td>\n",
       "      <td>1</td>\n",
       "    </tr>\n",
       "    <tr>\n",
       "      <th>4</th>\n",
       "      <td>I thought you might like these:\\n1) Slim Down ...</td>\n",
       "      <td>1</td>\n",
       "    </tr>\n",
       "  </tbody>\n",
       "</table>\n",
       "</div>"
      ],
      "text/plain": [
       "                                                Body  Label\n",
       "0  \\nSave up to 70% on Life Insurance.\\nWhy Spend...      1\n",
       "1  1) Fight The Risk of Cancer!\\nhttp://www.adcli...      1\n",
       "2  1) Fight The Risk of Cancer!\\nhttp://www.adcli...      1\n",
       "3  ##############################################...      1\n",
       "4  I thought you might like these:\\n1) Slim Down ...      1"
      ]
     },
     "execution_count": 10,
     "metadata": {},
     "output_type": "execute_result"
    }
   ],
   "source": [
    "df = pd.concat([df1,df2])\n",
    "print(df.shape)\n",
    "df.head()"
   ]
  },
  {
   "cell_type": "markdown",
   "id": "139cbf5c",
   "metadata": {},
   "source": [
    "### Preprocesamiento de texto"
   ]
  },
  {
   "cell_type": "code",
   "execution_count": 26,
   "id": "faca0c40",
   "metadata": {},
   "outputs": [
    {
     "data": {
      "text/plain": [
       "0       \\nSave up to 70% on Life Insurance.\\nWhy Spend...\n",
       "1       1) Fight The Risk of Cancer!\\nhttp://www.adcli...\n",
       "2       1) Fight The Risk of Cancer!\\nhttp://www.adcli...\n",
       "3       ##############################################...\n",
       "4       I thought you might like these:\\n1) Slim Down ...\n",
       "                              ...                        \n",
       "9995    Subject: monday 22 nd oct\\n louise ,\\n do you ...\n",
       "9996    Subject: missing bloomberg deals\\n stephanie -...\n",
       "9997    Subject: eops salary survey questionnaire\\n we...\n",
       "9998    Subject: q 3 comparison\\n hi louise ,\\n i have...\n",
       "9999    Subject: confidential folder to safely pass in...\n",
       "Name: Body, Length: 16046, dtype: object"
      ]
     },
     "execution_count": 26,
     "metadata": {},
     "output_type": "execute_result"
    }
   ],
   "source": [
    "df['Body']"
   ]
  },
  {
   "cell_type": "code",
   "execution_count": 57,
   "id": "b0ec3cd1",
   "metadata": {},
   "outputs": [],
   "source": [
    "stop_words = nltk.corpus.stopwords.words('english')\n",
    "def procesar(doc):\n",
    "    doc = str(doc)\n",
    "    doc = doc.lower()\n",
    "    doc = contractions.fix(doc)\n",
    "    doc = unicodedata.normalize('NFKD', doc).encode('ascii','ignore').decode('utf-8','ignore')\n",
    "    doc = re.sub(r'[^a-z\\s]','',doc)\n",
    "    tokens = nltk.word_tokenize(doc)\n",
    "    filtered = [token for token in tokens if token not in stop_words]\n",
    "    doc = ' '.join(filtered)\n",
    "    \n",
    "    return doc\n",
    "    "
   ]
  },
  {
   "cell_type": "code",
   "execution_count": 58,
   "id": "a0e88ff8",
   "metadata": {},
   "outputs": [
    {
     "data": {
      "text/html": [
       "<div>\n",
       "<style scoped>\n",
       "    .dataframe tbody tr th:only-of-type {\n",
       "        vertical-align: middle;\n",
       "    }\n",
       "\n",
       "    .dataframe tbody tr th {\n",
       "        vertical-align: top;\n",
       "    }\n",
       "\n",
       "    .dataframe thead th {\n",
       "        text-align: right;\n",
       "    }\n",
       "</style>\n",
       "<table border=\"1\" class=\"dataframe\">\n",
       "  <thead>\n",
       "    <tr style=\"text-align: right;\">\n",
       "      <th></th>\n",
       "      <th>Body</th>\n",
       "      <th>Label</th>\n",
       "    </tr>\n",
       "  </thead>\n",
       "  <tbody>\n",
       "    <tr>\n",
       "      <th>3723</th>\n",
       "      <td>subject localized software languages available...</td>\n",
       "      <td>1</td>\n",
       "    </tr>\n",
       "    <tr>\n",
       "      <th>1953</th>\n",
       "      <td>subject superior prescripiton pills diopter gi...</td>\n",
       "      <td>1</td>\n",
       "    </tr>\n",
       "    <tr>\n",
       "      <th>3541</th>\n",
       "      <td>subject security alert confirm national credit...</td>\n",
       "      <td>1</td>\n",
       "    </tr>\n",
       "    <tr>\n",
       "      <th>7891</th>\n",
       "      <td>subject tage resume submittal vince two candid...</td>\n",
       "      <td>0</td>\n",
       "    </tr>\n",
       "    <tr>\n",
       "      <th>1716</th>\n",
       "      <td>subject undelivered mail returned sender postf...</td>\n",
       "      <td>1</td>\n",
       "    </tr>\n",
       "    <tr>\n",
       "      <th>3207</th>\n",
       "      <td>subject conference dc july th rebuilding iraq ...</td>\n",
       "      <td>1</td>\n",
       "    </tr>\n",
       "    <tr>\n",
       "      <th>456</th>\n",
       "      <td>viagra xenical vioxx zyban propecia offer real...</td>\n",
       "      <td>1</td>\n",
       "    </tr>\n",
       "    <tr>\n",
       "      <th>2544</th>\n",
       "      <td>thursday sep europelondon bill kearney wrote c...</td>\n",
       "      <td>0</td>\n",
       "    </tr>\n",
       "    <tr>\n",
       "      <th>8203</th>\n",
       "      <td>subject risk bucketing p l ken greg absoutely ...</td>\n",
       "      <td>0</td>\n",
       "    </tr>\n",
       "    <tr>\n",
       "      <th>1147</th>\n",
       "      <td>subject guaranteed month find cowpea arrive sc...</td>\n",
       "      <td>1</td>\n",
       "    </tr>\n",
       "  </tbody>\n",
       "</table>\n",
       "</div>"
      ],
      "text/plain": [
       "                                                   Body  Label\n",
       "3723  subject localized software languages available...      1\n",
       "1953  subject superior prescripiton pills diopter gi...      1\n",
       "3541  subject security alert confirm national credit...      1\n",
       "7891  subject tage resume submittal vince two candid...      0\n",
       "1716  subject undelivered mail returned sender postf...      1\n",
       "3207  subject conference dc july th rebuilding iraq ...      1\n",
       "456   viagra xenical vioxx zyban propecia offer real...      1\n",
       "2544  thursday sep europelondon bill kearney wrote c...      0\n",
       "8203  subject risk bucketing p l ken greg absoutely ...      0\n",
       "1147  subject guaranteed month find cowpea arrive sc...      1"
      ]
     },
     "execution_count": 58,
     "metadata": {},
     "output_type": "execute_result"
    }
   ],
   "source": [
    "df['Body'] = df['Body'].apply(procesar)\n",
    "df.sample(10)"
   ]
  },
  {
   "cell_type": "markdown",
   "id": "46863b74",
   "metadata": {},
   "source": [
    "### Modelos BoG y TF-IDF"
   ]
  },
  {
   "cell_type": "code",
   "execution_count": null,
   "id": "4769b35f",
   "metadata": {},
   "outputs": [],
   "source": []
  },
  {
   "cell_type": "markdown",
   "id": "47ac58e8",
   "metadata": {},
   "source": [
    "## Parte 2 - Implementación"
   ]
  },
  {
   "cell_type": "code",
   "execution_count": null,
   "id": "88d72f04",
   "metadata": {},
   "outputs": [],
   "source": []
  }
 ],
 "metadata": {
  "kernelspec": {
   "display_name": "Python 3 (ipykernel)",
   "language": "python",
   "name": "python3"
  },
  "language_info": {
   "codemirror_mode": {
    "name": "ipython",
    "version": 3
   },
   "file_extension": ".py",
   "mimetype": "text/x-python",
   "name": "python",
   "nbconvert_exporter": "python",
   "pygments_lexer": "ipython3",
   "version": "3.10.9"
  }
 },
 "nbformat": 4,
 "nbformat_minor": 5
}
