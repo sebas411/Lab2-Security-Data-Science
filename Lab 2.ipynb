{
 "cells": [
  {
   "cell_type": "markdown",
   "id": "1bce759f",
   "metadata": {},
   "source": [
    "Fernando José Garavito Ovando 18071\n",
    "\n",
    "Sebastián Maldonado Arnau 18003"
   ]
  },
  {
   "cell_type": "markdown",
   "id": "50af0e5a",
   "metadata": {},
   "source": [
    "# Laboratorio 2 Detección de SPAM"
   ]
  },
  {
   "cell_type": "code",
   "execution_count": null,
   "id": "8986bbf9",
   "metadata": {},
   "outputs": [],
   "source": []
  },
  {
   "cell_type": "markdown",
   "id": "fc136cef",
   "metadata": {},
   "source": [
    "## Parte 1 - Ingeniería de características"
   ]
  },
  {
   "cell_type": "code",
   "execution_count": null,
   "id": "15cde2f9",
   "metadata": {},
   "outputs": [],
   "source": []
  },
  {
   "cell_type": "markdown",
   "id": "1afa52cc",
   "metadata": {},
   "source": [
    "## Parte 2 - Implementación"
   ]
  },
  {
   "cell_type": "code",
   "execution_count": null,
   "id": "d92e5b17",
   "metadata": {},
   "outputs": [],
   "source": []
  }
 ],
 "metadata": {
  "kernelspec": {
   "display_name": "Python 3 (ipykernel)",
   "language": "python",
   "name": "python3"
  },
  "language_info": {
   "codemirror_mode": {
    "name": "ipython",
    "version": 3
   },
   "file_extension": ".py",
   "mimetype": "text/x-python",
   "name": "python",
   "nbconvert_exporter": "python",
   "pygments_lexer": "ipython3",
   "version": "3.10.9"
  }
 },
 "nbformat": 4,
 "nbformat_minor": 5
}
